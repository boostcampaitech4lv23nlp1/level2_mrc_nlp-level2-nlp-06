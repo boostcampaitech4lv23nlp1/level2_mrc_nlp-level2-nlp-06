{
 "cells": [
  {
   "cell_type": "code",
   "execution_count": null,
   "metadata": {},
   "outputs": [],
   "source": [
    "import json\n",
    "from datasets import load_from_disk\n",
    "\n",
    "n_best_path = \"/opt/ml/results/n_best_prediction-1.json\"\n",
    "data = load_from_disk(\"/opt/ml/input/data/train_dataset\")[\"validation\"]\n",
    "\n",
    "with open(n_best_path, \"r\") as file:\n",
    "    n_best_file = json.load(file)\n",
    "\n",
    "store = []\n",
    "for i in range(len(data)):\n",
    "    id = data[i][\"id\"]\n",
    "    answer = data[i][\"answers\"][\"text\"][0]\n",
    "    \n",
    "    n_best = eval(n_best_file[id])\n",
    "    \n",
    "    if answer in n_best:\n",
    "        pass\n",
    "    else: store.append(i)\n",
    "\n",
    "print(len(store))\n",
    "print(store)\n"
   ]
  }
 ],
 "metadata": {
  "kernelspec": {
   "display_name": "Python 3",
   "language": "python",
   "name": "python3"
  },
  "language_info": {
   "name": "python",
   "version": "3.6.9 (default, Nov 25 2022, 14:10:45) \n[GCC 8.4.0]"
  },
  "orig_nbformat": 4,
  "vscode": {
   "interpreter": {
    "hash": "31f2aee4e71d21fbe5cf8b01ff0e069b9275f58929596ceb00d14d90e3e16cd6"
   }
  }
 },
 "nbformat": 4,
 "nbformat_minor": 2
}
