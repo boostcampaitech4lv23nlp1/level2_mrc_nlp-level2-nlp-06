{
 "cells": [
  {
   "cell_type": "markdown",
   "id": "94d5da50-cee4-4093-87bc-66d7dc3938cf",
   "metadata": {},
   "source": [
    "## Wiki Corpus 전처리 notebook"
   ]
  },
  {
   "cell_type": "code",
   "execution_count": 207,
   "id": "d9314d44-d855-4fa3-9b9d-b956ae31062b",
   "metadata": {
    "tags": []
   },
   "outputs": [],
   "source": [
    "import json\n",
    "import re\n",
    "\n",
    "from pandas import json_normalize\n",
    "\n",
    "file_path = 'wikipedia_documents.json'\n",
    "\n",
    "with open(file_path, 'r') as json_file:\n",
    "    json_data =json.load(json_file)"
   ]
  },
  {
   "cell_type": "markdown",
   "id": "09f05d2b-c930-48e0-9475-7f32ec1155fa",
   "metadata": {},
   "source": [
    "URL이나 HTML 등이 많이 포함되어 있어 이를 제거하기 위한 함수입니다"
   ]
  },
  {
   "cell_type": "code",
   "execution_count": 208,
   "id": "14c50781-4b58-4acd-aa00-fda5a040649a",
   "metadata": {
    "tags": []
   },
   "outputs": [
    {
     "data": {
      "text/plain": [
       "'New competition launched :'"
      ]
     },
     "execution_count": 208,
     "metadata": {},
     "output_type": "execute_result"
    }
   ],
   "source": [
    "example=\"New competition launched :https://www.kaggle.com/c/nlp-getting-started\"\n",
    "def remove_URL(text):\n",
    "    url = re.compile(r'https?://\\S+|www\\.\\S+|src=\\.\\S+|//\\S+|</\\S+')\n",
    "    return url.sub(r'',text)\n",
    "\n",
    "remove_URL(example)"
   ]
  },
  {
   "cell_type": "markdown",
   "id": "d9ffa55b-f5d4-40e5-9dea-b315af4a1fbe",
   "metadata": {},
   "source": [
    "전처리시 수, 공백, 한, 영, 중국어, 후술할 특수문자를 제외하고 모두 없앴습니다. (일본어도 valid set 기준 없습니다)  \n",
    "전처리시 () 를 포함한 모든 괄호를 제했습니다. : <> 와 [] 는 url의 마크다운에 사용되므로 특히 제해야 합니다.  \n",
    "그러나 valid set에서 한번이라도 쓰인 특수문자는 추가했습니다."
   ]
  },
  {
   "cell_type": "code",
   "execution_count": 156,
   "id": "2077c215-94e4-403b-9ce1-08d9ab9dc65c",
   "metadata": {},
   "outputs": [],
   "source": [
    "def remove_nl_punct(text):\n",
    "    temp = re.sub('\\n|\\\\n',' ',text)\n",
    "    return re.sub(r\"[^\\uAC00-\\uD7A30-9a-zA-Z一-龥.,()《》〈〉\\s]\", \" \", temp)"
   ]
  },
  {
   "cell_type": "markdown",
   "id": "aed8f6d7-d0c4-4963-b18c-cf345d4926f8",
   "metadata": {},
   "source": [
    "위 함수들을 실행해 전처리한 context의 예시입니다"
   ]
  },
  {
   "cell_type": "code",
   "execution_count": 210,
   "id": "90f65af0-7163-4ab4-9045-f784c3a77555",
   "metadata": {},
   "outputs": [
    {
     "name": "stdout",
     "output_type": "stream",
     "text": [
      "BEFORE: 이 문서는 나라 목록이며, 전 세계 206개 나라의 각 현황과 주권 승인 정보를 개요 형태로 나열하고 있다.\n",
      "\n",
      "이 목록은 명료화를 위해 두 부분으로 나뉘어 있다.\n",
      "\n",
      "# 첫 번째 부분은 바티칸 시국과 팔레스타인을 포함하여 유엔 등 국제 기구에 가입되어 국제적인 승인을 널리 받았다고 여기는 195개 나라를 나열하고 있다.\n",
      "# 두 번째 부분은 일부 지역의 주권을 사실상 (데 팍토) 행사하고 있지만, 아직 국제적인 승인을 널리 받지 않았다고 여기는 11개 나라를 나열하고 있다.\n",
      "\n",
      "두 목록은 모두 가나다 순이다.\n",
      "\n",
      "일부 국가의 경우 국가로서의 자격에 논쟁의 여부가 있으며, 이 때문에 이러한 목록을 엮는 것은 매우 어렵고 논란이 생길 수 있는 과정이다. 이 목록을 구성하고 있는 국가를 선정하는 기준에 대한 정보는 \"포함 기준\" 단락을 통해 설명하였다. 나라에 대한 일반적인 정보는 \"국가\" 문서에서 설명하고 있다.\n",
      "AFTER : 이 문서는 나라 목록이며, 전 세계 206개 나라의 각 현황과 주권 승인 정보를 개요 형태로 나열하고 있다.  이 목록은 명료화를 위해 두 부분으로 나뉘어 있다.    첫 번째 부분은 바티칸 시국과 팔레스타인을 포함하여 유엔 등 국제 기구에 가입되어 국제적인 승인을 널리 받았다고 여기는 195개 나라를 나열하고 있다.   두 번째 부분은 일부 지역의 주권을 사실상 (데 팍토) 행사하고 있지만, 아직 국제적인 승인을 널리 받지 않았다고 여기는 11개 나라를 나열하고 있다.  두 목록은 모두 가나다 순이다.  일부 국가의 경우 국가로서의 자격에 논쟁의 여부가 있으며, 이 때문에 이러한 목록을 엮는 것은 매우 어렵고 논란이 생길 수 있는 과정이다. 이 목록을 구성하고 있는 국가를 선정하는 기준에 대한 정보는  포함 기준  단락을 통해 설명하였다. 나라에 대한 일반적인 정보는  국가  문서에서 설명하고 있다.\n"
     ]
    }
   ],
   "source": [
    "print('BEFORE:','이 문서는 나라 목록이며, 전 세계 206개 나라의 각 현황과 주권 승인 정보를 개요 형태로 나열하고 있다.\\n\\n이 목록은 명료화를 위해 두 부분으로 나뉘어 있다.\\n\\n# 첫 번째 부분은 바티칸 시국과 팔레스타인을 포함하여 유엔 등 국제 기구에 가입되어 국제적인 승인을 널리 받았다고 여기는 195개 나라를 나열하고 있다.\\n# 두 번째 부분은 일부 지역의 주권을 사실상 (데 팍토) 행사하고 있지만, 아직 국제적인 승인을 널리 받지 않았다고 여기는 11개 나라를 나열하고 있다.\\n\\n두 목록은 모두 가나다 순이다.\\n\\n일부 국가의 경우 국가로서의 자격에 논쟁의 여부가 있으며, 이 때문에 이러한 목록을 엮는 것은 매우 어렵고 논란이 생길 수 있는 과정이다. 이 목록을 구성하고 있는 국가를 선정하는 기준에 대한 정보는 \"포함 기준\" 단락을 통해 설명하였다. 나라에 대한 일반적인 정보는 \"국가\" 문서에서 설명하고 있다.')\n",
    "print('AFTER :',remove_nl_punct(remove_URL('이 문서는 나라 목록이며, 전 세계 206개 나라의 각 현황과 주권 승인 정보를 개요 형태로 나열하고 있다.\\n\\n이 목록은 명료화를 위해 두 부분으로 나뉘어 있다.\\n\\n# 첫 번째 부분은 바티칸 시국과 팔레스타인을 포함하여 유엔 등 국제 기구에 가입되어 국제적인 승인을 널리 받았다고 여기는 195개 나라를 나열하고 있다.\\n# 두 번째 부분은 일부 지역의 주권을 사실상 (데 팍토) 행사하고 있지만, 아직 국제적인 승인을 널리 받지 않았다고 여기는 11개 나라를 나열하고 있다.\\n\\n두 목록은 모두 가나다 순이다.\\n\\n일부 국가의 경우 국가로서의 자격에 논쟁의 여부가 있으며, 이 때문에 이러한 목록을 엮는 것은 매우 어렵고 논란이 생길 수 있는 과정이다. 이 목록을 구성하고 있는 국가를 선정하는 기준에 대한 정보는 \"포함 기준\" 단락을 통해 설명하였다. 나라에 대한 일반적인 정보는 \"국가\" 문서에서 설명하고 있다.')))"
   ]
  },
  {
   "cell_type": "code",
   "execution_count": 211,
   "id": "0132c234-b26f-4c94-9287-80afa41de48b",
   "metadata": {},
   "outputs": [],
   "source": [
    "for i in range(len(json_data)):\n",
    "    json_data[f'{i}']['text'] = remove_nl_punct(remove_URL(json_data[f'{i}']['text']))\n",
    "for i in range(len(json_data)):\n",
    "    json_data[f'{i}']['text'] = ' '.join(json_data[f'{i}']['text'].split())"
   ]
  },
  {
   "cell_type": "code",
   "execution_count": 152,
   "id": "7d949843-1c2f-4bc7-bc51-990f4a610f03",
   "metadata": {},
   "outputs": [
    {
     "name": "stdout",
     "output_type": "stream",
     "text": [
      "이 문서는 나라 목록이며, 전 세계 206개 나라의 각 현황과 주권 승인 정보를 개요 형태로 나열하고 있다. 이 목록은 명료화를 위해 두 부분으로 나뉘어 있다. 첫 번째 부분은 바티칸 시국과 팔레스타인을 포함하여 유엔 등 국제 기구에 가입되어 국제적인 승인을 널리 받았다고 여기는 195개 나라를 나열하고 있다. 두 번째 부분은 일부 지역의 주권을 사실상 (데 팍토) 행사하고 있지만, 아직 국제적인 승인을 널리 받지 않았다고 여기는 11개 나라를 나열하고 있다. 두 목록은 모두 가나다 순이다. 일부 국가의 경우 국가로서의 자격에 논쟁의 여부가 있으며, 이 때문에 이러한 목록을 엮는 것은 매우 어렵고 논란이 생길 수 있는 과정이다. 이 목록을 구성하고 있는 국가를 선정하는 기준에 대한 정보는 포함 기준 단락을 통해 설명하였다. 나라에 대한 일반적인 정보는 국가 문서에서 설명하고 있다.\n"
     ]
    }
   ],
   "source": [
    "print(json_data['0']['text'])"
   ]
  },
  {
   "cell_type": "code",
   "execution_count": 212,
   "id": "761c4e25-bd85-4311-aa74-7e453731ce42",
   "metadata": {},
   "outputs": [
    {
     "data": {
      "text/html": [
       "<div>\n",
       "<style scoped>\n",
       "    .dataframe tbody tr th:only-of-type {\n",
       "        vertical-align: middle;\n",
       "    }\n",
       "\n",
       "    .dataframe tbody tr th {\n",
       "        vertical-align: top;\n",
       "    }\n",
       "\n",
       "    .dataframe thead th {\n",
       "        text-align: right;\n",
       "    }\n",
       "</style>\n",
       "<table border=\"1\" class=\"dataframe\">\n",
       "  <thead>\n",
       "    <tr style=\"text-align: right;\">\n",
       "      <th></th>\n",
       "      <th>text</th>\n",
       "      <th>corpus_source</th>\n",
       "      <th>url</th>\n",
       "      <th>domain</th>\n",
       "      <th>title</th>\n",
       "      <th>author</th>\n",
       "      <th>html</th>\n",
       "      <th>document_id</th>\n",
       "    </tr>\n",
       "  </thead>\n",
       "  <tbody>\n",
       "    <tr>\n",
       "      <th>0</th>\n",
       "      <td>이 문서는 나라 목록이며, 전 세계 206개 나라의 각 현황과 주권 승인 정보를 개...</td>\n",
       "      <td>위키피디아</td>\n",
       "      <td>TODO</td>\n",
       "      <td>None</td>\n",
       "      <td>나라 목록</td>\n",
       "      <td>None</td>\n",
       "      <td>None</td>\n",
       "      <td>0</td>\n",
       "    </tr>\n",
       "    <tr>\n",
       "      <th>1</th>\n",
       "      <td>이 목록에 실린 국가 기준은 1933년 몬테비데오 협약 1장을 참고로 하였다. 협정...</td>\n",
       "      <td>위키피디아</td>\n",
       "      <td>TODO</td>\n",
       "      <td>None</td>\n",
       "      <td>나라 목록</td>\n",
       "      <td>None</td>\n",
       "      <td>None</td>\n",
       "      <td>1</td>\n",
       "    </tr>\n",
       "    <tr>\n",
       "      <th>2</th>\n",
       "      <td>현 서울특별시 종로구 서린동 (구 일제 강점기 경기도 경성부 서린정) 출신이다. 친...</td>\n",
       "      <td>위키피디아</td>\n",
       "      <td>TODO</td>\n",
       "      <td>None</td>\n",
       "      <td>백남준</td>\n",
       "      <td>None</td>\n",
       "      <td>None</td>\n",
       "      <td>2</td>\n",
       "    </tr>\n",
       "    <tr>\n",
       "      <th>3</th>\n",
       "      <td>아오조라 문고(靑空文庫, 아오조라 분고)는 일본어판 구텐베르크 프로젝트 로 불리는 ...</td>\n",
       "      <td>위키피디아</td>\n",
       "      <td>TODO</td>\n",
       "      <td>None</td>\n",
       "      <td>아오조라 문고</td>\n",
       "      <td>None</td>\n",
       "      <td>None</td>\n",
       "      <td>3</td>\n",
       "    </tr>\n",
       "    <tr>\n",
       "      <th>4</th>\n",
       "      <td>저자 사망 이후 50년이 지나 저작권이 소멸한 메이지 시대부터 쇼와 시대 초기까지의...</td>\n",
       "      <td>위키피디아</td>\n",
       "      <td>TODO</td>\n",
       "      <td>None</td>\n",
       "      <td>아오조라 문고</td>\n",
       "      <td>None</td>\n",
       "      <td>None</td>\n",
       "      <td>4</td>\n",
       "    </tr>\n",
       "    <tr>\n",
       "      <th>...</th>\n",
       "      <td>...</td>\n",
       "      <td>...</td>\n",
       "      <td>...</td>\n",
       "      <td>...</td>\n",
       "      <td>...</td>\n",
       "      <td>...</td>\n",
       "      <td>...</td>\n",
       "      <td>...</td>\n",
       "    </tr>\n",
       "    <tr>\n",
       "      <th>60608</th>\n",
       "      <td>오키나와 현립 박물관 미술관( , Okinawa Prefectural Museum ...</td>\n",
       "      <td>위키피디아</td>\n",
       "      <td>None</td>\n",
       "      <td>None</td>\n",
       "      <td>오키나와 현립 박물관·미술관</td>\n",
       "      <td>None</td>\n",
       "      <td>None</td>\n",
       "      <td>60608</td>\n",
       "    </tr>\n",
       "    <tr>\n",
       "      <th>60609</th>\n",
       "      <td>1936년 7월, 오키나와현 교육위원회 부설 향토 박물관(沖縄県教育会附設郷土博物館)...</td>\n",
       "      <td>위키피디아</td>\n",
       "      <td>None</td>\n",
       "      <td>None</td>\n",
       "      <td>오키나와 현립 박물관·미술관</td>\n",
       "      <td>None</td>\n",
       "      <td>None</td>\n",
       "      <td>60609</td>\n",
       "    </tr>\n",
       "    <tr>\n",
       "      <th>60610</th>\n",
       "      <td>박물관은 개관 10주년이되는 2017년에 관의 애칭 및 마스코트를 일반인에게 공모했...</td>\n",
       "      <td>위키피디아</td>\n",
       "      <td>None</td>\n",
       "      <td>None</td>\n",
       "      <td>오키나와 현립 박물관·미술관</td>\n",
       "      <td>None</td>\n",
       "      <td>None</td>\n",
       "      <td>60610</td>\n",
       "    </tr>\n",
       "    <tr>\n",
       "      <th>60611</th>\n",
       "      <td>단결권 및 단체교섭권 협약(Right to Organise and Collectiv...</td>\n",
       "      <td>위키피디아</td>\n",
       "      <td>None</td>\n",
       "      <td>None</td>\n",
       "      <td>단결권 및 단체교섭권 협약</td>\n",
       "      <td>None</td>\n",
       "      <td>None</td>\n",
       "      <td>60611</td>\n",
       "    </tr>\n",
       "    <tr>\n",
       "      <th>60612</th>\n",
       "      <td>이 협약은 부당노동행위 제도를 규율하고 있다. 협약 제1조에서 반노동조합 차별행위로...</td>\n",
       "      <td>위키피디아</td>\n",
       "      <td>None</td>\n",
       "      <td>None</td>\n",
       "      <td>단결권 및 단체교섭권 협약</td>\n",
       "      <td>None</td>\n",
       "      <td>None</td>\n",
       "      <td>60612</td>\n",
       "    </tr>\n",
       "  </tbody>\n",
       "</table>\n",
       "<p>60613 rows × 8 columns</p>\n",
       "</div>"
      ],
      "text/plain": [
       "                                                    text corpus_source   url  \\\n",
       "0      이 문서는 나라 목록이며, 전 세계 206개 나라의 각 현황과 주권 승인 정보를 개...         위키피디아  TODO   \n",
       "1      이 목록에 실린 국가 기준은 1933년 몬테비데오 협약 1장을 참고로 하였다. 협정...         위키피디아  TODO   \n",
       "2      현 서울특별시 종로구 서린동 (구 일제 강점기 경기도 경성부 서린정) 출신이다. 친...         위키피디아  TODO   \n",
       "3      아오조라 문고(靑空文庫, 아오조라 분고)는 일본어판 구텐베르크 프로젝트 로 불리는 ...         위키피디아  TODO   \n",
       "4      저자 사망 이후 50년이 지나 저작권이 소멸한 메이지 시대부터 쇼와 시대 초기까지의...         위키피디아  TODO   \n",
       "...                                                  ...           ...   ...   \n",
       "60608  오키나와 현립 박물관 미술관( , Okinawa Prefectural Museum ...         위키피디아  None   \n",
       "60609  1936년 7월, 오키나와현 교육위원회 부설 향토 박물관(沖縄県教育会附設郷土博物館)...         위키피디아  None   \n",
       "60610  박물관은 개관 10주년이되는 2017년에 관의 애칭 및 마스코트를 일반인에게 공모했...         위키피디아  None   \n",
       "60611  단결권 및 단체교섭권 협약(Right to Organise and Collectiv...         위키피디아  None   \n",
       "60612  이 협약은 부당노동행위 제도를 규율하고 있다. 협약 제1조에서 반노동조합 차별행위로...         위키피디아  None   \n",
       "\n",
       "      domain            title author  html document_id  \n",
       "0       None            나라 목록   None  None           0  \n",
       "1       None            나라 목록   None  None           1  \n",
       "2       None              백남준   None  None           2  \n",
       "3       None          아오조라 문고   None  None           3  \n",
       "4       None          아오조라 문고   None  None           4  \n",
       "...      ...              ...    ...   ...         ...  \n",
       "60608   None  오키나와 현립 박물관·미술관   None  None       60608  \n",
       "60609   None  오키나와 현립 박물관·미술관   None  None       60609  \n",
       "60610   None  오키나와 현립 박물관·미술관   None  None       60610  \n",
       "60611   None   단결권 및 단체교섭권 협약   None  None       60611  \n",
       "60612   None   단결권 및 단체교섭권 협약   None  None       60612  \n",
       "\n",
       "[60613 rows x 8 columns]"
      ]
     },
     "execution_count": 212,
     "metadata": {},
     "output_type": "execute_result"
    }
   ],
   "source": [
    "import pandas as pd\n",
    "\n",
    "df = pd.DataFrame(json_data)\n",
    "df = df.transpose()\n",
    "df"
   ]
  },
  {
   "cell_type": "markdown",
   "id": "404499ba-189d-4fef-839e-7cf43ca15b49",
   "metadata": {},
   "source": [
    "reader 모델이 읽을 수 있도록, 적절한 stride를 가진 passage로 잘라주는 과정입니다."
   ]
  },
  {
   "cell_type": "code",
   "execution_count": 213,
   "id": "e87f9ae2-17e4-4273-8ede-aab91b068e56",
   "metadata": {},
   "outputs": [],
   "source": [
    "corpus = list(df[\"text\"])\n",
    "\n",
    "mx_length = 512\n",
    "stride = 128\n",
    "\n",
    "store = []\n",
    "ids = []\n",
    "count = 0\n",
    "\n",
    "for item in corpus:\n",
    "    start = 0\n",
    "    end = mx_length\n",
    "    \n",
    "    while True:\n",
    "        if end >= len(item):\n",
    "            store.append(item[start:])\n",
    "            ids.append(count)\n",
    "            count += 1\n",
    "            break\n",
    "        else:\n",
    "            store.append(item[start:end])\n",
    "            ids.append(count)\n",
    "            count += 1\n",
    "            \n",
    "            start += stride\n",
    "            end += stride\n",
    "\n",
    "dic = {\"id\": ids, \"text\": store}\n",
    "\n",
    "new_data = pd.DataFrame(dic)"
   ]
  },
  {
   "cell_type": "markdown",
   "id": "6247d6b7-40d2-4a2b-a812-68667f4b9923",
   "metadata": {},
   "source": [
    "위에서 제거한 `\\n\\n`의 잔재를 한번 더 없애줍니다 (약 3분 소요)"
   ]
  },
  {
   "cell_type": "code",
   "execution_count": 214,
   "id": "bbf3945e-4647-4d69-8176-462f3a2d60e8",
   "metadata": {},
   "outputs": [
    {
     "name": "stderr",
     "output_type": "stream",
     "text": [
      "/tmp/ipykernel_1193/3411592270.py:2: SettingWithCopyWarning: \n",
      "A value is trying to be set on a copy of a slice from a DataFrame\n",
      "\n",
      "See the caveats in the documentation: https://pandas.pydata.org/pandas-docs/stable/user_guide/indexing.html#returning-a-view-versus-a-copy\n",
      "  new_data['text'][i] = new_data['text'][i].replace(' n n', ' ')\n"
     ]
    }
   ],
   "source": [
    "for i in range(len(new_data)):\n",
    "    new_data['text'][i] = new_data['text'][i].replace(' n n', ' ')\n",
    "\n",
    "new_data['text'] = new_data['text'].apply(lambda x:x.replace(' n n', ' '))"
   ]
  },
  {
   "cell_type": "code",
   "execution_count": null,
   "id": "16670abd-f6eb-41ad-a4eb-3250f9d80cc8",
   "metadata": {},
   "outputs": [],
   "source": [
    "랜덤 샘플링으로 결과물을 확인합니다"
   ]
  },
  {
   "cell_type": "code",
   "execution_count": 216,
   "id": "cb960ec3-aa7e-43af-8774-c7186aa539f2",
   "metadata": {},
   "outputs": [
    {
     "name": "stdout",
     "output_type": "stream",
     "text": [
      "202681 이어 클래식은 그라마폰, 그리고 세계굴지의 폴리그램과 제휴를 맺었다. 이듬해 1972년에는 지구 레코드가 RCA, 컬럼비아와 계약을 맺었고 1974년에는 오아시스가 EMI, WEA(워너 브라더스, 일렉트라, 애틀랜틱을 합병한 이니셜임), MCA와 차례로 레이블 계약을 맺어 외국 팝스타들의 음반 발매권을 얻었다. 한편 1970년대는 청년문화의 바람이 일면서 때마침 가요계에는 통기타 음악이 붐을 이뤘다. 이와 때를 같이하여 프로덕션이 등장했다. 종래는 레코드사가 가수의 계약, 음반제작, 영업을 다 맡아 하던 것을 프로덕션의 등장으로 개인 제작자들이 기획과 제작을 하고 영업만 레코드사에 위임하는 형식으로 하여 당시 음악의 산실로 오리엔탈, 애플, 킹 등 3대 프로덕션이 각광을 받았다. 오리엔탈은 이장희, 송창식, 김세환, 4월과 5월, 현경과 영애 등 70년대를 대표하는 포크 가수들이 포진해 있어 타의 추종을 불허한 가운데 애플은 어니언스, 투 에이스, 키 보이스, 트리퍼스 등 그룹의 집결지였으며 킹은 신중현\n",
      "\n",
      "10733  1933 34, 1936 37, 1938 39) 하였으며, 이 시기에 가장 성공적인 네덜란드 팀으로 비상하였다. 아약스는 1942 43 시즌에 두 번째 KNVB컵을 우승하였고, 1917년 KNVB컵 우승 당시부터 3차례나 클럽을 지휘했던 잉글랜드의 잭 레이놀드가 맡은 마지막 시즌인 1946 47 시즌에는 8번째 리그 우승을 거두었다. 1956년, 새 프로 리그인 에레디비시가 출범하였고, 에레디비시 첫 시즌에 아약스는 원년 멤버로 참가하였다. 암스테르담 연고의 클럽은 이 새로 출범한 리그의 초대 우승팀이 되었고, 이듬해에는 유러피언컵에 데뷔하였으나, 8강에서 헝가리 챔피언 버셔시에게 합계 2 6으로 패하였다. 팀은 1959 60 시즌에 또다시 에레디비시 우승을 차지하였고, 1961년에는 3번째 KNVB컵 우승을 거두었다. 1946년부터 1958년까지 클럽에서 선수로 활약하였던 리뉘스 미헐스는 1965년에 아약스 감독으로 부임하였고, 아약스와 네덜란드 축구 국가대표팀의 대명사가 된 그의 토털 풋볼 철학을 \n",
      "\n",
      "154614 kW) Turbomeca Arriel 2C2 turboshaft 엔진 2기를 탑재하고 있다. EC155 B형은 이전 AS365 돌핀에 비해서 승객 공간을 30 더 확장하였고 수화물 공간도 130 확장하였다. 이외에도 진동 소음을 감소시키기 위해서 Fenestron 테일로터와 함께 5엽 Spheriflex 복합소재 블레이드로 제작되었고, 날씨가 매우 추운 날에도 운용할 수 있도록 강력한 방빙 장치를 갖추고 있으며, 조종실은 전자계기 그리고 디지털 비행 장치를 갖춘 완전 글라스 콕픽을 적용한 설계가 되었다. 또한 엔진 FADEC와 연동된 4축 디지털 자동조종 시스템을 갖추고 있다. 유로콥터 EC155는 3가지 임무 유형으로 제작되었다. 승객 운송용은 승객 12명 또는 13명이 탑승할 수 있다. VIP 임무용은 임원 8명의 업무 공간을 제공하는 VIP 라운지를 갖추고 있다. 의무후송용으로 2개의 들것과 4명의 의료요원 또는 들것 4개와 2명의 의료요원이 탑승할 수 있다. 2005년 제작된 U형은 해안 운송과 \n",
      "\n",
      "19742 문에 서스테인 페달을 안정적으로 적용하면 불협화음이 생성된다. 대조적으로, 역사적 기반의 악기 (복원된 오래된 피아노, 또는 역사적 원칙에 기반한 현대 악기)를 사용하는 연주자는 문자 그대로 베토벤의 방향을 더 잘 따를 수 있다. 현대의 피아노 연주를 위해 몇 가지 옵션이 제시되었다. 한 가지 옵션은 과도한 불협화음을 피하기 위해 필요한 경우 주기적으로 서스테인 페달을 변경하는 것이다. 예를 들어, 이것은 소나타의 리코르디 판에서 편집자가 제공한 페달 마크에서 볼 수 있다. 하프 페달링 (페달을 부분적으로 밟는 기술)은 종종 19세기 초에 페달의 짧은 서스테인을 시뮬레이션 하는 데 사용된다. 찰스 로젠은 하프 페달을 밟거나 1초 정도 늦게 페달을 놓을 것을 제안했다. 조셉 바노베는 소스테누토 페달 사용을 제안한다. 피아니스트는 원하는 흐림 을 제공하기 위해 낮은 베이스 현의 동조적인 떨림을 허용하면서 깨끗하게 페달을 밟아야 한다. 이것은 악장을 시작하기 전에 피아노의 가장 낮은 베이스 음을 조용히 누른 \n",
      "\n",
      "38877 사람들이 자신이 만든 음식을 먹고 기뻐해 주면 좋아한다. 좋아하는 음식은 푸딩. 최종화에서는 고등학교에 진학한 뒤 아르바이트와 수험공부를 같이 하느라 바쁜 모양이다. 드디어 조금 키도 자라기 시작해 키가 타마미와 비슷해졌다. 마호타로에서는 THE TEMPERANCE. 하이바라 유키오 (灰原由起夫) 생일 불명, 36세. 182cm, 77kg. 성우는 호리우치 켄유(堀内賢雄). 나루타키 장의 6호실에 살고 있다. 극단적으로 말수가 적고 다른 사람과의 대화는 퍼펫 인형인 죠니가 대신하고 있다. 죠니가 없을 때에는 필담으로 이야기를 할 정도로 대인공포증이 있고 죠니가 없으면 거의 이야기를 하지 못한다. 직업은 소설가로서 꽤 유명한 작가인 모양. 나루타키 장 내에서도 존재감이 거의 없고 다른 주민에게서 잊히는 일도 꽤 있으며 죠니에게서도 당신, 여기 분위기에서 혼자 붕 떠있는 거 같아. 라는 말을 듣기도 한다. 항상 담배를 물고 있으며 한가할 때는 정원의 호수에서 낚시를 즐기기도 한다. 낚시를 하는 이유는 낚시를\n",
      "\n"
     ]
    }
   ],
   "source": [
    "import random\n",
    "for i in range(5):\n",
    "    seed = random.randint(0,211181)\n",
    "    print(seed, new_data['text'][seed], end = '\\n\\n')"
   ]
  },
  {
   "cell_type": "code",
   "execution_count": null,
   "id": "6f7549ea-6d03-44ad-b977-d40b3af1d843",
   "metadata": {},
   "outputs": [],
   "source": [
    "아래 셀 중 필요한 것을 선택하여 실행하면 `csv` `json` 중 원하는 형식으로 export 할 수 있습니다"
   ]
  },
  {
   "cell_type": "code",
   "execution_count": 217,
   "id": "f20dc576-4923-45b2-8d2c-9c80bef785ef",
   "metadata": {},
   "outputs": [],
   "source": [
    "new_data.to_csv(\"clean_wiki_seperate_wiki_stride128_re.csv\", index=False)"
   ]
  },
  {
   "cell_type": "code",
   "execution_count": 218,
   "id": "78432cee-1b67-4d22-b872-c5cf26500797",
   "metadata": {},
   "outputs": [],
   "source": [
    "#deliver to json w/o breaking\n",
    "with open('./wiki_prepped.json','w') as make_file:\n",
    "    json.dump(json_data, make_file, ensure_ascii=False)"
   ]
  }
 ],
 "metadata": {
  "kernelspec": {
   "display_name": "Python 3 (ipykernel)",
   "language": "python",
   "name": "python3"
  },
  "language_info": {
   "codemirror_mode": {
    "name": "ipython",
    "version": 3
   },
   "file_extension": ".py",
   "mimetype": "text/x-python",
   "name": "python",
   "nbconvert_exporter": "python",
   "pygments_lexer": "ipython3",
   "version": "3.8.5"
  }
 },
 "nbformat": 4,
 "nbformat_minor": 5
}
